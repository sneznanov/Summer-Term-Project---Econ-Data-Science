{
 "cells": [
  {
   "cell_type": "code",
   "execution_count": 15,
   "id": "066223b2",
   "metadata": {},
   "outputs": [],
   "source": [
    "import pandas as pd\n",
    "import numpy as np\n",
    "from sklearn.model_selection import train_test_split\n",
    "from sklearn.linear_model import LogisticRegression\n",
    "from sklearn.metrics import r2_score\n",
    "from sklearn.model_selection import KFold\n",
    "from sklearn import preprocessing"
   ]
  },
  {
   "cell_type": "code",
   "execution_count": 2,
   "id": "39236821",
   "metadata": {},
   "outputs": [],
   "source": [
    "df_subset_biggest = pd.read_csv('NYC_DF_BIGGEST.csv')"
   ]
  },
  {
   "cell_type": "code",
   "execution_count": 3,
   "id": "ba7620d9",
   "metadata": {},
   "outputs": [],
   "source": [
    "features = ['EXLAND2','AVLAND2','AVLAND','EXLAND']\n",
    "X = df_subset_biggest.loc[:, features]\n",
    "y = df_subset_biggest.loc[:, ['FULLVAL']]"
   ]
  },
  {
   "cell_type": "code",
   "execution_count": null,
   "id": "fd148b8b",
   "metadata": {},
   "outputs": [],
   "source": [
    "X_train, X_test, y_train, y_test = train_test_split(X, y, random_state=973, test_size=0.333)"
   ]
  },
  {
   "cell_type": "code",
   "execution_count": 4,
   "id": "88a5cb13",
   "metadata": {},
   "outputs": [],
   "source": [
    "kf = KFold(n_splits = 5, shuffle = True, random_state = 973)\n",
    "for train_index, test_index in kf.split(X, y):\n",
    "    #print(train_index, test_index) \n",
    "    X_train, X_test= X.iloc[train_index], X.iloc[test_index]\n",
    "    y_train, y_test= y.iloc[train_index], y.iloc[test_index]"
   ]
  },
  {
   "cell_type": "code",
   "execution_count": 5,
   "id": "e97a8248",
   "metadata": {},
   "outputs": [],
   "source": [
    "label_encoder = preprocessing.LabelEncoder()\n",
    "y_train_enc = label_encoder.fit_transform(y_train.values.ravel())\n",
    "lab_enc = preprocessing.LabelEncoder()\n",
    "y_test_enc = lab_enc.fit_transform(y_test.values.ravel())"
   ]
  },
  {
   "cell_type": "code",
   "execution_count": 6,
   "id": "93605b49",
   "metadata": {},
   "outputs": [
    {
     "name": "stderr",
     "output_type": "stream",
     "text": [
      "C:\\Users\\jessi\\anaconda3\\lib\\site-packages\\sklearn\\linear_model\\_logistic.py:763: ConvergenceWarning: lbfgs failed to converge (status=1):\n",
      "STOP: TOTAL NO. of ITERATIONS REACHED LIMIT.\n",
      "\n",
      "Increase the number of iterations (max_iter) or scale the data as shown in:\n",
      "    https://scikit-learn.org/stable/modules/preprocessing.html\n",
      "Please also refer to the documentation for alternative solver options:\n",
      "    https://scikit-learn.org/stable/modules/linear_model.html#logistic-regression\n",
      "  n_iter_i = _check_optimize_result(\n"
     ]
    },
    {
     "data": {
      "text/plain": [
       "0.0"
      ]
     },
     "execution_count": 6,
     "metadata": {},
     "output_type": "execute_result"
    }
   ],
   "source": [
    "lr = LogisticRegression(solver='lbfgs', max_iter=5000)\n",
    "lr.fit(X_train, y_train_enc)\n",
    "lr.score(X_test, y_test_enc)"
   ]
  },
  {
   "cell_type": "code",
   "execution_count": 7,
   "id": "8f1b60ac",
   "metadata": {},
   "outputs": [
    {
     "data": {
      "text/plain": [
       "-71.26512688356786"
      ]
     },
     "execution_count": 7,
     "metadata": {},
     "output_type": "execute_result"
    }
   ],
   "source": [
    "r2_score(y_test_enc, lr.predict(X_test))#K Fold"
   ]
  },
  {
   "cell_type": "code",
   "execution_count": 7,
   "id": "d6924af8",
   "metadata": {},
   "outputs": [
    {
     "data": {
      "text/plain": [
       "-71.26512688356786"
      ]
     },
     "execution_count": 7,
     "metadata": {},
     "output_type": "execute_result"
    }
   ],
   "source": [
    "r2_score(y_test_enc, lr.predict(X_test))#Train Test"
   ]
  },
  {
   "cell_type": "code",
   "execution_count": null,
   "id": "5a191e3d",
   "metadata": {},
   "outputs": [],
   "source": []
  }
 ],
 "metadata": {
  "kernelspec": {
   "display_name": "Python 3 (ipykernel)",
   "language": "python",
   "name": "python3"
  },
  "language_info": {
   "codemirror_mode": {
    "name": "ipython",
    "version": 3
   },
   "file_extension": ".py",
   "mimetype": "text/x-python",
   "name": "python",
   "nbconvert_exporter": "python",
   "pygments_lexer": "ipython3",
   "version": "3.9.7"
  }
 },
 "nbformat": 4,
 "nbformat_minor": 5
}
