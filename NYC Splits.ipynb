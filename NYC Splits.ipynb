{
 "cells": [
  {
   "cell_type": "code",
   "execution_count": 1,
   "id": "a49e49f1",
   "metadata": {},
   "outputs": [],
   "source": [
    "import numpy as np\n",
    "\n",
    "import pandas as pd"
   ]
  },
  {
   "cell_type": "code",
   "execution_count": 2,
   "id": "0466e6c1",
   "metadata": {},
   "outputs": [
    {
     "data": {
      "text/plain": [
       "9845857"
      ]
     },
     "execution_count": 2,
     "metadata": {},
     "output_type": "execute_result"
    }
   ],
   "source": [
    "df = pd.read_csv('Property_Valuation_and_Assessment_Data.csv')\n",
    "len(df)"
   ]
  },
  {
   "cell_type": "code",
   "execution_count": 4,
   "id": "12f68474",
   "metadata": {},
   "outputs": [
    {
     "data": {
      "text/plain": [
       "40"
      ]
     },
     "execution_count": 4,
     "metadata": {},
     "output_type": "execute_result"
    }
   ],
   "source": [
    "len(df.columns)"
   ]
  },
  {
   "cell_type": "code",
   "execution_count": 5,
   "id": "4b77ca8e",
   "metadata": {},
   "outputs": [
    {
     "data": {
      "text/plain": [
       "<bound method NDFrame.head of                BBLE  BORO  BLOCK   LOT EASEMENT                  OWNER BLDGCL  \\\n",
       "0        1000163859     1     16  3859      NaN           CHEN, QI TOM     R4   \n",
       "1        1000730028     1     73    28      NaN               NYC DSBS     V1   \n",
       "2        1000730029     1     73    29      NaN               NYC DSBS     Y7   \n",
       "3        1000297504     1     29  7504      NaN                    NaN     R0   \n",
       "4        1000360012     1     36    12      NaN               NYC DSBS     Y7   \n",
       "...             ...   ...    ...   ...      ...                    ...    ...   \n",
       "9845852  5070381059     5   7038  1059      NaN  MARGUERITE FIORE/FAMI     R3   \n",
       "9845853  5078601001     5   7860  1001      NaN          KORK, ANTHONY     R3   \n",
       "9845854  5078580036     5   7858    36      NaN    MALDARELLI, LEONARD     A5   \n",
       "9845855  5070910019     5   7091    19      NaN        JOHN J PERROTTA     B9   \n",
       "9845856  5077100526     5   7710   526      NaN     STEPHEN W REBRACCA     A2   \n",
       "\n",
       "        TAXCLASS  LTFRONT  LTDEPTH  ... VALTYPE    Borough   Latitude  \\\n",
       "0              2        0        0  ...   AC-TR        NaN        NaN   \n",
       "1              4      183       52  ...   AC-TR        NaN        NaN   \n",
       "2              4       90      500  ...   AC-TR        NaN        NaN   \n",
       "3              2       36       73  ...   AC-TR        NaN        NaN   \n",
       "4              4      534      604  ...   AC-TR        NaN        NaN   \n",
       "...          ...      ...      ...  ...     ...        ...        ...   \n",
       "9845852       1A        4       42  ...   AC-TR  STATEN IS  40.546634   \n",
       "9845853       1A       22       27  ...   AC-TR  STATEN IS  40.502727   \n",
       "9845854        1       25      100  ...   AC-TR  STATEN IS  40.499770   \n",
       "9845855        1       24      113  ...   AC-TR  STATEN IS  40.540859   \n",
       "9845856        1       60      100  ...   AC-TR  STATEN IS  40.507700   \n",
       "\n",
       "         Longitude  Community Board  Council District  Census Tract  \\\n",
       "0              NaN              NaN               NaN           NaN   \n",
       "1              NaN              NaN               NaN           NaN   \n",
       "2              NaN              NaN               NaN           NaN   \n",
       "3              NaN              NaN               NaN           NaN   \n",
       "4              NaN              NaN               NaN           NaN   \n",
       "...            ...              ...               ...           ...   \n",
       "9845852 -74.211915            503.0              51.0       20801.0   \n",
       "9845853 -74.237263            503.0              51.0       24402.0   \n",
       "9845854 -74.238913            503.0              51.0       24402.0   \n",
       "9845855 -74.218776            503.0              51.0         226.0   \n",
       "9845856 -74.223777            503.0              51.0       24402.0   \n",
       "\n",
       "               BIN                                     NTA  \\\n",
       "0              NaN                                     NaN   \n",
       "1              NaN                                     NaN   \n",
       "2              NaN                                     NaN   \n",
       "3              NaN                                     NaN   \n",
       "4              NaN                                     NaN   \n",
       "...            ...                                     ...   \n",
       "9845852  5123588.0                       Rossville-Woodrow   \n",
       "9845853  5093070.0  Charleston-Richmond Valley-Tottenville   \n",
       "9845854  5115616.0  Charleston-Richmond Valley-Tottenville   \n",
       "9845855  5151497.0  Charleston-Richmond Valley-Tottenville   \n",
       "9845856  5087328.0  Charleston-Richmond Valley-Tottenville   \n",
       "\n",
       "             New Georeferenced Column  \n",
       "0                                 NaN  \n",
       "1                                 NaN  \n",
       "2                                 NaN  \n",
       "3                                 NaN  \n",
       "4                                 NaN  \n",
       "...                               ...  \n",
       "9845852  POINT (-74.211915 40.546634)  \n",
       "9845853  POINT (-74.237263 40.502727)  \n",
       "9845854   POINT (-74.238913 40.49977)  \n",
       "9845855  POINT (-74.218776 40.540859)  \n",
       "9845856    POINT (-74.223777 40.5077)  \n",
       "\n",
       "[9845857 rows x 40 columns]>"
      ]
     },
     "execution_count": 5,
     "metadata": {},
     "output_type": "execute_result"
    }
   ],
   "source": [
    "df.head"
   ]
  },
  {
   "cell_type": "code",
   "execution_count": 4,
   "id": "727fcab2",
   "metadata": {},
   "outputs": [],
   "source": [
    "remove_n = 9840857\n",
    "drop_indices = np.random.choice(df.index, remove_n, replace=False)\n",
    "df_subset_big = df.drop(drop_indices)\n",
    "len(df_subset_big)\n",
    "\n",
    "df_subset_big.replace([np.inf, -np.inf], np.nan, inplace=True)\n",
    "df_subset_big.fillna(1, inplace=True)"
   ]
  },
  {
   "cell_type": "code",
   "execution_count": 5,
   "id": "9e189e2e",
   "metadata": {},
   "outputs": [
    {
     "data": {
      "text/plain": [
       "5000"
      ]
     },
     "execution_count": 5,
     "metadata": {},
     "output_type": "execute_result"
    }
   ],
   "source": [
    "len(df_subset_big)"
   ]
  },
  {
   "cell_type": "code",
   "execution_count": 6,
   "id": "2110b639",
   "metadata": {},
   "outputs": [],
   "source": [
    "df_subset_big.to_csv('NYC_DF_BIG.csv')"
   ]
  },
  {
   "cell_type": "code",
   "execution_count": 7,
   "id": "5beffed4",
   "metadata": {},
   "outputs": [
    {
     "data": {
      "text/plain": [
       "9845857"
      ]
     },
     "execution_count": 7,
     "metadata": {},
     "output_type": "execute_result"
    }
   ],
   "source": [
    "len(df)"
   ]
  },
  {
   "cell_type": "code",
   "execution_count": 8,
   "id": "37abd2df",
   "metadata": {},
   "outputs": [],
   "source": [
    "remove_n = 9835857\n",
    "drop_indices = np.random.choice(df.index, remove_n, replace=False)\n",
    "df_subset_biggest = df.drop(drop_indices)\n",
    "len(df_subset_biggest)\n",
    "\n",
    "df_subset_biggest.replace([np.inf, -np.inf], np.nan, inplace=True)\n",
    "df_subset_biggest.fillna(1, inplace=True)"
   ]
  },
  {
   "cell_type": "code",
   "execution_count": 9,
   "id": "e316954a",
   "metadata": {},
   "outputs": [
    {
     "data": {
      "text/plain": [
       "10000"
      ]
     },
     "execution_count": 9,
     "metadata": {},
     "output_type": "execute_result"
    }
   ],
   "source": [
    "len(df_subset_biggest)"
   ]
  },
  {
   "cell_type": "code",
   "execution_count": 10,
   "id": "9d8fd18f",
   "metadata": {},
   "outputs": [],
   "source": [
    "df_subset_biggest.to_csv('NYC_DF_BIGGEST.csv')"
   ]
  },
  {
   "cell_type": "code",
   "execution_count": 6,
   "id": "2e51cdc0",
   "metadata": {},
   "outputs": [
    {
     "name": "stdout",
     "output_type": "stream",
     "text": [
      "Requirement already satisfied: scikit-learn-intelex in c:\\users\\jessi\\anaconda3\\lib\\site-packages (2021.20210714.120553)Note: you may need to restart the kernel to use updated packages.\n"
     ]
    },
    {
     "name": "stderr",
     "output_type": "stream",
     "text": [
      "ERROR: Cannot uninstall 'TBB'. It is a distutils installed project and thus we cannot accurately determine which files belong to it which would lead to only a partial uninstall.\n"
     ]
    },
    {
     "name": "stdout",
     "output_type": "stream",
     "text": [
      "\n",
      "Requirement already satisfied: daal4py>=2021.2 in c:\\users\\jessi\\anaconda3\\lib\\site-packages (from scikit-learn-intelex) (2021.3.0)\n",
      "Requirement already satisfied: scikit-learn>=0.22 in c:\\users\\jessi\\anaconda3\\lib\\site-packages (from scikit-learn-intelex) (0.24.2)\n",
      "Collecting daal==2021.2.3\n",
      "  Downloading daal-2021.2.3-py2.py3-none-win_amd64.whl (63.9 MB)\n",
      "Requirement already satisfied: numpy>=1.15 in c:\\users\\jessi\\anaconda3\\lib\\site-packages (from daal4py>=2021.2->scikit-learn-intelex) (1.22.4)\n",
      "Collecting tbb==2021.*\n",
      "  Downloading tbb-2021.6.0-py3-none-win_amd64.whl (278 kB)\n",
      "Requirement already satisfied: threadpoolctl>=2.0.0 in c:\\users\\jessi\\anaconda3\\lib\\site-packages (from scikit-learn>=0.22->scikit-learn-intelex) (2.2.0)\n",
      "Requirement already satisfied: joblib>=0.11 in c:\\users\\jessi\\anaconda3\\lib\\site-packages (from scikit-learn>=0.22->scikit-learn-intelex) (1.1.0)\n",
      "Requirement already satisfied: scipy>=0.19.1 in c:\\users\\jessi\\anaconda3\\lib\\site-packages (from scikit-learn>=0.22->scikit-learn-intelex) (1.7.1)\n",
      "Installing collected packages: tbb, daal\n",
      "  Attempting uninstall: tbb\n",
      "    Found existing installation: TBB 0.2\n"
     ]
    }
   ],
   "source": [
    "pip install scikit-learn-intelex"
   ]
  },
  {
   "cell_type": "code",
   "execution_count": null,
   "id": "3b0470d6",
   "metadata": {},
   "outputs": [],
   "source": []
  }
 ],
 "metadata": {
  "kernelspec": {
   "display_name": "Python 3 (ipykernel)",
   "language": "python",
   "name": "python3"
  },
  "language_info": {
   "codemirror_mode": {
    "name": "ipython",
    "version": 3
   },
   "file_extension": ".py",
   "mimetype": "text/x-python",
   "name": "python",
   "nbconvert_exporter": "python",
   "pygments_lexer": "ipython3",
   "version": "3.9.7"
  }
 },
 "nbformat": 4,
 "nbformat_minor": 5
}
