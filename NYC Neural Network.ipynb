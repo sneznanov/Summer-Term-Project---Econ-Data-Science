{
 "cells": [
  {
   "cell_type": "code",
   "execution_count": 26,
   "id": "0285f8b1",
   "metadata": {},
   "outputs": [],
   "source": [
    "import tensorflow as tf\n",
    "\n",
    "from tensorflow import keras\n",
    "\n",
    "from tensorflow.keras import layers\n",
    "\n",
    "from tensorflow.keras.layers.experimental import preprocessing\n",
    "\n",
    "import numpy as np\n",
    "\n",
    "import pandas as pd\n",
    "\n",
    "import statistics as stat\n",
    "\n",
    "import matplotlib.pyplot as plt\n",
    "from sklearn.metrics import r2_score\n",
    "from sklearn.model_selection import train_test_split\n",
    "from sklearn.model_selection import KFold"
   ]
  },
  {
   "cell_type": "code",
   "execution_count": 2,
   "id": "1dddd393",
   "metadata": {},
   "outputs": [],
   "source": [
    "df = pd.read_csv('Property_Valuation_and_Assessment_Data.csv')\n",
    "len(df)\n",
    "remove_n = 9844857\n",
    "drop_indices = np.random.choice(df.index, remove_n, replace=False)\n",
    "df_subset = df.drop(drop_indices)\n",
    "len(df_subset)\n",
    "\n",
    "df_subset.replace([np.inf, -np.inf], np.nan, inplace=True)\n",
    "df_subset.fillna(1, inplace=True)"
   ]
  },
  {
   "cell_type": "code",
   "execution_count": 1,
   "id": "46a540d5",
   "metadata": {},
   "outputs": [
    {
     "ename": "NameError",
     "evalue": "name 'df' is not defined",
     "output_type": "error",
     "traceback": [
      "\u001b[1;31m---------------------------------------------------------------------------\u001b[0m",
      "\u001b[1;31mNameError\u001b[0m                                 Traceback (most recent call last)",
      "\u001b[1;32m~\\AppData\\Local\\Temp/ipykernel_10408/1509735071.py\u001b[0m in \u001b[0;36m<module>\u001b[1;34m\u001b[0m\n\u001b[1;32m----> 1\u001b[1;33m \u001b[0mlen\u001b[0m\u001b[1;33m(\u001b[0m\u001b[0mdf\u001b[0m\u001b[1;33m)\u001b[0m\u001b[1;33m\u001b[0m\u001b[1;33m\u001b[0m\u001b[0m\n\u001b[0m",
      "\u001b[1;31mNameError\u001b[0m: name 'df' is not defined"
     ]
    }
   ],
   "source": []
  },
  {
   "cell_type": "code",
   "execution_count": 4,
   "id": "ed05cc33",
   "metadata": {},
   "outputs": [],
   "source": [
    "df_subset.to_csv('NYC_DF.csv')\n"
   ]
  },
  {
   "cell_type": "code",
   "execution_count": 4,
   "id": "70fcc248",
   "metadata": {},
   "outputs": [],
   "source": [
    "df_subset_big = pd.read_csv('NYC_DF_BIG.csv')"
   ]
  },
  {
   "cell_type": "code",
   "execution_count": 27,
   "id": "9a3d484e",
   "metadata": {},
   "outputs": [],
   "source": [
    "df_subset_biggest = pd.read_csv('NYC_DF_BIGGEST.csv')"
   ]
  },
  {
   "cell_type": "code",
   "execution_count": 28,
   "id": "7b13a8d0",
   "metadata": {},
   "outputs": [],
   "source": [
    "features = ['EXLAND2','AVLAND2','AVLAND','EXLAND']\n",
    "X = df_subset_biggest.loc[:, features]\n",
    "y = df_subset_biggest.loc[:, ['FULLVAL']]"
   ]
  },
  {
   "cell_type": "code",
   "execution_count": 10,
   "id": "fc5b72a9",
   "metadata": {},
   "outputs": [],
   "source": [
    "kf = KFold(n_splits = 5, shuffle = True, random_state = 973)\n",
    "for train_index, test_index in kf.split(X, y):\n",
    "\n",
    "    X_train, X_test= X.iloc[train_index], X.iloc[test_index]\n",
    "    y_train, y_test= y.iloc[train_index], y.iloc[test_index]"
   ]
  },
  {
   "cell_type": "code",
   "execution_count": 29,
   "id": "e8069988",
   "metadata": {},
   "outputs": [],
   "source": [
    "X_train, X_test, y_train, y_test = train_test_split(X, y, random_state=973, test_size=0.333)"
   ]
  },
  {
   "cell_type": "code",
   "execution_count": 8,
   "id": "60d7ac1c",
   "metadata": {},
   "outputs": [
    {
     "name": "stdout",
     "output_type": "stream",
     "text": [
      "105/105 [==============================] - 0s 729us/step - loss: 15951394242560.0000\n",
      "15951394242560.0\n"
     ]
    }
   ],
   "source": [
    "maxepo=800\n",
    "\n",
    "dnn_model = tf.keras.Sequential([\n",
    "\n",
    "  layers.Dense(16, activation='relu'), # first layer\n",
    "\n",
    "  layers.Dense(8, activation='relu'),  # second layer\n",
    "  \n",
    "  layers.Dense(4, activation='relu'),  # third layer\n",
    "\n",
    "  layers.Dense(1)\n",
    "\n",
    "])\n",
    "\n",
    " \n",
    "\n",
    "dnn_model.compile(\n",
    "\n",
    "    optimizer=tf.optimizers.Adam(learning_rate=0.01),\n",
    "\n",
    "    loss='mean_squared_error')\n",
    "dnn_model.fit(\n",
    "\n",
    "    X_train, y_train,\n",
    "\n",
    "    validation_split=0,\n",
    "\n",
    "    verbose=0, epochs=maxepo)\n",
    "print(dnn_model.evaluate(X_test, y_test))"
   ]
  },
  {
   "cell_type": "code",
   "execution_count": 6,
   "id": "05a27c70",
   "metadata": {},
   "outputs": [
    {
     "data": {
      "text/plain": [
       "0.5804874444531318"
      ]
     },
     "execution_count": 6,
     "metadata": {},
     "output_type": "execute_result"
    }
   ],
   "source": [
    "r2_score(y_test, dnn_model.predict(X_test))#K Fold"
   ]
  },
  {
   "cell_type": "code",
   "execution_count": 9,
   "id": "7a31575c",
   "metadata": {},
   "outputs": [
    {
     "data": {
      "text/plain": [
       "0.5775636396828872"
      ]
     },
     "execution_count": 9,
     "metadata": {},
     "output_type": "execute_result"
    }
   ],
   "source": [
    "r2_score(y_test, dnn_model.predict(X_test))#Train Test"
   ]
  },
  {
   "cell_type": "code",
   "execution_count": 30,
   "id": "0db0044c",
   "metadata": {},
   "outputs": [
    {
     "name": "stdout",
     "output_type": "stream",
     "text": [
      "105/105 [==============================] - 0s 965us/step - loss: 19128479907840.0000\n",
      "19128479907840.0\n"
     ]
    }
   ],
   "source": [
    "maxepo=800\n",
    "\n",
    "dnn_model = tf.keras.Sequential([\n",
    "\n",
    "  layers.Dense(16, activation='relu'), # first layer\n",
    "\n",
    "  layers.Dense(16, activation='relu'),  # second layer\n",
    "  \n",
    "  layers.Dense(16, activation='relu'),  # third layer\n",
    "\n",
    "  layers.Dense(1)\n",
    "\n",
    "])\n",
    "\n",
    " \n",
    "\n",
    "dnn_model.compile(\n",
    "\n",
    "    optimizer=tf.optimizers.Adam(learning_rate=0.01),\n",
    "\n",
    "    loss='mean_squared_error')\n",
    "dnn_model.fit(\n",
    "\n",
    "    X_train, y_train,\n",
    "\n",
    "    validation_split=0,\n",
    "\n",
    "    verbose=0, epochs=maxepo)\n",
    "print(dnn_model.evaluate(X_test, y_test))"
   ]
  },
  {
   "cell_type": "code",
   "execution_count": 12,
   "id": "9f0005eb",
   "metadata": {},
   "outputs": [
    {
     "data": {
      "text/plain": [
       "0.5063671729964991"
      ]
     },
     "execution_count": 12,
     "metadata": {},
     "output_type": "execute_result"
    }
   ],
   "source": [
    "r2_score(y_test, dnn_model.predict(X_test))# K Fold"
   ]
  },
  {
   "cell_type": "code",
   "execution_count": 31,
   "id": "8f731c53",
   "metadata": {},
   "outputs": [
    {
     "data": {
      "text/plain": [
       "0.49342571090888754"
      ]
     },
     "execution_count": 31,
     "metadata": {},
     "output_type": "execute_result"
    }
   ],
   "source": [
    "r2_score(y_test, dnn_model.predict(X_test))#Train Test"
   ]
  },
  {
   "cell_type": "code",
   "execution_count": 32,
   "id": "fe06a542",
   "metadata": {},
   "outputs": [
    {
     "name": "stdout",
     "output_type": "stream",
     "text": [
      "105/105 [==============================] - 0s 1ms/step - loss: 38646690349056.0000\n",
      "38646690349056.0\n"
     ]
    }
   ],
   "source": [
    "maxepo=800\n",
    "\n",
    "dnn_model = tf.keras.Sequential([\n",
    "\n",
    "  layers.Dense(3, activation='relu'), # first layer\n",
    "\n",
    "  layers.Dense(3, activation='relu'),  # second layer\n",
    "  \n",
    "  layers.Dense(3, activation='relu'),  # third layer\n",
    "  layers.Dense(3, activation='relu'), # first layer\n",
    "\n",
    "  layers.Dense(3, activation='relu'),  # second layer\n",
    "  \n",
    "  layers.Dense(3, activation='relu'),  # third layer  \n",
    "  layers.Dense(3, activation='relu'), # first layer\n",
    "\n",
    "  layers.Dense(3, activation='relu'),  # second layer\n",
    "  \n",
    "  layers.Dense(3, activation='relu'),  # third layer  \n",
    "\n",
    "  layers.Dense(1)\n",
    "\n",
    "])\n",
    "\n",
    " \n",
    "\n",
    "dnn_model.compile(\n",
    "\n",
    "    optimizer=tf.optimizers.Adam(learning_rate=0.01),\n",
    "\n",
    "    loss='mean_squared_error')\n",
    "dnn_model.fit(\n",
    "\n",
    "    X_train, y_train,\n",
    "\n",
    "    validation_split=0,\n",
    "\n",
    "    verbose=0, epochs=maxepo)\n",
    "print(dnn_model.evaluate(X_test, y_test))"
   ]
  },
  {
   "cell_type": "code",
   "execution_count": 14,
   "id": "fa0df7b1",
   "metadata": {},
   "outputs": [
    {
     "data": {
      "text/plain": [
       "-0.043609008436066965"
      ]
     },
     "execution_count": 14,
     "metadata": {},
     "output_type": "execute_result"
    }
   ],
   "source": [
    "r2_score(y_test, dnn_model.predict(X_test))#K Fold Test"
   ]
  },
  {
   "cell_type": "code",
   "execution_count": 33,
   "id": "be16e609",
   "metadata": {},
   "outputs": [
    {
     "data": {
      "text/plain": [
       "-0.023469526191063572"
      ]
     },
     "execution_count": 33,
     "metadata": {},
     "output_type": "execute_result"
    }
   ],
   "source": [
    "r2_score(y_test, dnn_model.predict(X_test))#Train Test"
   ]
  },
  {
   "cell_type": "code",
   "execution_count": 34,
   "id": "a0eeef7f",
   "metadata": {},
   "outputs": [
    {
     "name": "stdout",
     "output_type": "stream",
     "text": [
      "105/105 [==============================] - 0s 1ms/step - loss: 38646707126272.0000\n",
      "38646707126272.0\n"
     ]
    }
   ],
   "source": [
    "maxepo=800\n",
    "\n",
    "dnn_model = tf.keras.Sequential([\n",
    "\n",
    "  layers.Dense(16, activation='relu'), # first layer\n",
    "\n",
    "  layers.Dense(16, activation='relu'),  # second layer\n",
    "  \n",
    "  layers.Dense(16, activation='relu'),  # third layer\n",
    "  layers.Dense(16, activation='relu'), # first layer\n",
    "\n",
    "  layers.Dense(16, activation='relu'),  # second layer\n",
    "  \n",
    "  layers.Dense(16, activation='relu'),  # third layer \n",
    "  layers.Dense(1)\n",
    "\n",
    "])\n",
    "\n",
    " \n",
    "\n",
    "dnn_model.compile(\n",
    "\n",
    "    optimizer=tf.optimizers.Adam(learning_rate=0.01),\n",
    "\n",
    "    loss='mean_squared_error')\n",
    "dnn_model.fit(\n",
    "\n",
    "    X_train, y_train,\n",
    "\n",
    "    validation_split=0,\n",
    "\n",
    "    verbose=0, epochs=maxepo)\n",
    "print(dnn_model.evaluate(X_test, y_test))"
   ]
  },
  {
   "cell_type": "code",
   "execution_count": 16,
   "id": "e5d1d4b2",
   "metadata": {},
   "outputs": [
    {
     "data": {
      "text/plain": [
       "-0.007065744182411571"
      ]
     },
     "execution_count": 16,
     "metadata": {},
     "output_type": "execute_result"
    }
   ],
   "source": [
    "r2_score(y_test, dnn_model.predict(X_test))#K Fold Test"
   ]
  },
  {
   "cell_type": "code",
   "execution_count": 35,
   "id": "9c8b2411",
   "metadata": {},
   "outputs": [
    {
     "data": {
      "text/plain": [
       "-0.023469811397011986"
      ]
     },
     "execution_count": 35,
     "metadata": {},
     "output_type": "execute_result"
    }
   ],
   "source": [
    "r2_score(y_test, dnn_model.predict(X_test))#Train Test"
   ]
  },
  {
   "cell_type": "code",
   "execution_count": 36,
   "id": "961c39cd",
   "metadata": {},
   "outputs": [
    {
     "name": "stdout",
     "output_type": "stream",
     "text": [
      "105/105 [==============================] - 0s 915us/step - loss: 19261691002880.0000\n",
      "19261691002880.0\n"
     ]
    }
   ],
   "source": [
    "maxepo=800\n",
    "\n",
    "dnn_model = tf.keras.Sequential([\n",
    "\n",
    "  layers.Dense(20, activation='relu'), # first layer\n",
    "\n",
    "  layers.Dense(20, activation='relu'),  # second layer\n",
    "  \n",
    "  layers.Dense(20, activation='relu'),  # third layer\n",
    "\n",
    "  layers.Dense(1)\n",
    "\n",
    "])\n",
    "\n",
    " \n",
    "\n",
    "dnn_model.compile(\n",
    "\n",
    "    optimizer=tf.optimizers.Adam(learning_rate=0.01),\n",
    "\n",
    "    loss='mean_squared_error')\n",
    "dnn_model.fit(\n",
    "\n",
    "    X_train, y_train,\n",
    "\n",
    "    validation_split=0,\n",
    "\n",
    "    verbose=0, epochs=maxepo)\n",
    "print(dnn_model.evaluate(X_test, y_test))"
   ]
  },
  {
   "cell_type": "code",
   "execution_count": 18,
   "id": "cd7c00e4",
   "metadata": {},
   "outputs": [
    {
     "data": {
      "text/plain": [
       "0.7096685661970443"
      ]
     },
     "execution_count": 18,
     "metadata": {},
     "output_type": "execute_result"
    }
   ],
   "source": [
    "r2_score(y_test, dnn_model.predict(X_test))#K Fold Test"
   ]
  },
  {
   "cell_type": "code",
   "execution_count": 37,
   "id": "e020c248",
   "metadata": {},
   "outputs": [
    {
     "data": {
      "text/plain": [
       "0.48989786862209417"
      ]
     },
     "execution_count": 37,
     "metadata": {},
     "output_type": "execute_result"
    }
   ],
   "source": [
    "r2_score(y_test, dnn_model.predict(X_test))#Train Test"
   ]
  },
  {
   "cell_type": "code",
   "execution_count": 38,
   "id": "4b6af475",
   "metadata": {},
   "outputs": [
    {
     "name": "stdout",
     "output_type": "stream",
     "text": [
      "105/105 [==============================] - 0s 912us/step - loss: 33678946205696.0000\n",
      "33678946205696.0\n"
     ]
    }
   ],
   "source": [
    "maxepo=800\n",
    "\n",
    "dnn_model = tf.keras.Sequential([\n",
    "\n",
    "  layers.Dense(25, activation='relu'), # first layer\n",
    "\n",
    "  layers.Dense(25, activation='relu'),  # second layer\n",
    "  \n",
    "  layers.Dense(25, activation='relu'),  # third layer\n",
    "\n",
    "  layers.Dense(1)\n",
    "\n",
    "])\n",
    "\n",
    " \n",
    "\n",
    "dnn_model.compile(\n",
    "\n",
    "    optimizer=tf.optimizers.Adam(learning_rate=0.01),\n",
    "\n",
    "    loss='mean_squared_error')\n",
    "dnn_model.fit(\n",
    "\n",
    "    X_train, y_train,\n",
    "\n",
    "    validation_split=0,\n",
    "\n",
    "    verbose=0, epochs=maxepo)\n",
    "print(dnn_model.evaluate(X_test, y_test))"
   ]
  },
  {
   "cell_type": "code",
   "execution_count": 20,
   "id": "b6c4a9ae",
   "metadata": {},
   "outputs": [
    {
     "data": {
      "text/plain": [
       "-0.13440742234758862"
      ]
     },
     "execution_count": 20,
     "metadata": {},
     "output_type": "execute_result"
    }
   ],
   "source": [
    "r2_score(y_test, dnn_model.predict(X_test))#K Fold Test"
   ]
  },
  {
   "cell_type": "code",
   "execution_count": 39,
   "id": "3fda5b00",
   "metadata": {},
   "outputs": [
    {
     "data": {
      "text/plain": [
       "0.10808970414044938"
      ]
     },
     "execution_count": 39,
     "metadata": {},
     "output_type": "execute_result"
    }
   ],
   "source": [
    "r2_score(y_test, dnn_model.predict(X_test))#Train Test"
   ]
  },
  {
   "cell_type": "code",
   "execution_count": 40,
   "id": "35dd5fbe",
   "metadata": {},
   "outputs": [
    {
     "name": "stdout",
     "output_type": "stream",
     "text": [
      "105/105 [==============================] - 0s 1ms/step - loss: 38646774235136.0000\n",
      "38646774235136.0\n"
     ]
    }
   ],
   "source": [
    "maxepo=800\n",
    "\n",
    "dnn_model = tf.keras.Sequential([\n",
    "\n",
    "  layers.Dense(20, activation='relu'), # first layer\n",
    "\n",
    "  layers.Dense(20, activation='relu'),  # second layer\n",
    "  \n",
    "  layers.Dense(20, activation='relu'),  # third layer\n",
    "\n",
    "  layers.Dense(20, activation='relu'), # first layer\n",
    "\n",
    "  layers.Dense(20, activation='relu'),  # second layer\n",
    "  \n",
    "  layers.Dense(20, activation='relu'),  # third layer\n",
    "    \n",
    "  layers.Dense(1)\n",
    "\n",
    "])\n",
    "\n",
    " \n",
    "\n",
    "dnn_model.compile(\n",
    "\n",
    "    optimizer=tf.optimizers.Adam(learning_rate=0.01),\n",
    "\n",
    "    loss='mean_squared_error')\n",
    "dnn_model.fit(\n",
    "\n",
    "    X_train, y_train,\n",
    "\n",
    "    validation_split=0,\n",
    "\n",
    "    verbose=0, epochs=maxepo)\n",
    "print(dnn_model.evaluate(X_test, y_test))"
   ]
  },
  {
   "cell_type": "code",
   "execution_count": 22,
   "id": "3c6e7945",
   "metadata": {},
   "outputs": [
    {
     "data": {
      "text/plain": [
       "-0.0436167894228936"
      ]
     },
     "execution_count": 22,
     "metadata": {},
     "output_type": "execute_result"
    }
   ],
   "source": [
    "r2_score(y_test, dnn_model.predict(X_test))#K Fold Test"
   ]
  },
  {
   "cell_type": "code",
   "execution_count": 41,
   "id": "a8e51217",
   "metadata": {},
   "outputs": [
    {
     "data": {
      "text/plain": [
       "-0.0234715876387519"
      ]
     },
     "execution_count": 41,
     "metadata": {},
     "output_type": "execute_result"
    }
   ],
   "source": [
    "r2_score(y_test, dnn_model.predict(X_test))#Train Test"
   ]
  },
  {
   "cell_type": "code",
   "execution_count": null,
   "id": "5fa41bf7",
   "metadata": {},
   "outputs": [],
   "source": []
  }
 ],
 "metadata": {
  "kernelspec": {
   "display_name": "Python 3 (ipykernel)",
   "language": "python",
   "name": "python3"
  },
  "language_info": {
   "codemirror_mode": {
    "name": "ipython",
    "version": 3
   },
   "file_extension": ".py",
   "mimetype": "text/x-python",
   "name": "python",
   "nbconvert_exporter": "python",
   "pygments_lexer": "ipython3",
   "version": "3.9.7"
  }
 },
 "nbformat": 4,
 "nbformat_minor": 5
}
