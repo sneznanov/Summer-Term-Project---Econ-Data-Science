{
 "cells": [
  {
   "cell_type": "code",
   "execution_count": 1,
   "id": "2c65bf67",
   "metadata": {},
   "outputs": [],
   "source": [
    "import tensorflow as tf\n",
    "\n",
    "from tensorflow import keras\n",
    "\n",
    "from tensorflow.keras import layers\n",
    "\n",
    "from tensorflow.keras.layers.experimental import preprocessing\n",
    "\n",
    "import numpy as np\n",
    "\n",
    "import pandas as pd\n",
    "\n",
    "import statistics as stat\n",
    "\n",
    "import matplotlib.pyplot as plt\n",
    "from sklearn.metrics import r2_score\n",
    "from sklearn.model_selection import train_test_split\n",
    "from sklearn.model_selection import KFold"
   ]
  },
  {
   "cell_type": "code",
   "execution_count": 2,
   "id": "cee7cf03",
   "metadata": {},
   "outputs": [],
   "source": [
    "df = pd.read_csv('data.csv')\n",
    "len(df)\n",
    "df = df.reset_index()\n",
    "df.replace([np.inf, -np.inf], np.nan, inplace=True)\n",
    "df.fillna(1, inplace=True)"
   ]
  },
  {
   "cell_type": "code",
   "execution_count": 3,
   "id": "849cf873",
   "metadata": {},
   "outputs": [],
   "source": [
    "features = ['RM','ZN','B','DIS','CHAS']\n",
    "X = df.loc[:, features]\n",
    "y = df.loc[:, ['MEDV']]"
   ]
  },
  {
   "cell_type": "code",
   "execution_count": 36,
   "id": "7df2a474",
   "metadata": {},
   "outputs": [],
   "source": [
    "\n",
    "X_train, X_test, y_train, y_test = train_test_split(X, y, random_state=973, test_size=0.2)"
   ]
  },
  {
   "cell_type": "code",
   "execution_count": 4,
   "id": "ad77f129",
   "metadata": {},
   "outputs": [],
   "source": []
  },
  {
   "cell_type": "code",
   "execution_count": 33,
   "id": "22ffc70e",
   "metadata": {},
   "outputs": [],
   "source": [
    "kf = KFold(n_splits = 5, shuffle = True, random_state = 973)\n",
    "for train_index, test_index in kf.split(X, y):\n",
    "     \n",
    "    X_train, X_test= X.iloc[train_index], X.iloc[test_index]\n",
    "    y_train, y_test= y.iloc[train_index], y.iloc[test_index]"
   ]
  },
  {
   "cell_type": "code",
   "execution_count": 21,
   "id": "6ac22bc7",
   "metadata": {},
   "outputs": [
    {
     "name": "stdout",
     "output_type": "stream",
     "text": [
      "4/4 [==============================] - 0s 1ms/step - loss: 57.4345\n",
      "57.43445587158203\n"
     ]
    }
   ],
   "source": [
    "maxepo=800\n",
    "\n",
    "dnn_model = tf.keras.Sequential([\n",
    "\n",
    "  layers.Dense(16, activation='relu'), # first layer\n",
    "\n",
    "  layers.Dense(8, activation='relu'),  # second layer\n",
    "  \n",
    "  layers.Dense(4, activation='relu'),  # third layer\n",
    "\n",
    "  layers.Dense(1)\n",
    "\n",
    "])\n",
    "\n",
    " \n",
    "\n",
    "dnn_model.compile(\n",
    "\n",
    "    optimizer=tf.optimizers.Adam(learning_rate=0.01),\n",
    "\n",
    "    loss='mean_squared_error')\n",
    "dnn_model.fit(\n",
    "\n",
    "    X_train, y_train,\n",
    "\n",
    "    validation_split=0,\n",
    "\n",
    "    verbose=0, epochs=maxepo)\n",
    "print(dnn_model.evaluate(X_test, y_test))"
   ]
  },
  {
   "cell_type": "code",
   "execution_count": 7,
   "id": "b005632e",
   "metadata": {},
   "outputs": [
    {
     "data": {
      "text/plain": [
       "0.5025109609000007"
      ]
     },
     "execution_count": 7,
     "metadata": {},
     "output_type": "execute_result"
    }
   ],
   "source": [
    "r2_score(y_test, dnn_model.predict(X_test))#K Fold"
   ]
  },
  {
   "cell_type": "code",
   "execution_count": 22,
   "id": "d6c44106",
   "metadata": {},
   "outputs": [
    {
     "data": {
      "text/plain": [
       "0.43810631911316045"
      ]
     },
     "execution_count": 22,
     "metadata": {},
     "output_type": "execute_result"
    }
   ],
   "source": [
    "r2_score(y_test, dnn_model.predict(X_test))#Train Test Split"
   ]
  },
  {
   "cell_type": "code",
   "execution_count": 23,
   "id": "d7ba8478",
   "metadata": {},
   "outputs": [
    {
     "name": "stdout",
     "output_type": "stream",
     "text": [
      "4/4 [==============================] - 0s 2ms/step - loss: 51.4391\n",
      "51.439083099365234\n"
     ]
    }
   ],
   "source": [
    "maxepo=800\n",
    "\n",
    "dnn_model = tf.keras.Sequential([\n",
    "\n",
    "  layers.Dense(16, activation='relu'), # first layer\n",
    "\n",
    "  layers.Dense(16, activation='relu'),  # second layer\n",
    "  \n",
    "  layers.Dense(16, activation='relu'),  # third layer\n",
    "\n",
    "  layers.Dense(1)\n",
    "\n",
    "])\n",
    "\n",
    " \n",
    "\n",
    "dnn_model.compile(\n",
    "\n",
    "    optimizer=tf.optimizers.Adam(learning_rate=0.01),\n",
    "\n",
    "    loss='mean_squared_error')\n",
    "dnn_model.fit(\n",
    "\n",
    "    X_train, y_train,\n",
    "\n",
    "    validation_split=0,\n",
    "\n",
    "    verbose=0, epochs=maxepo)\n",
    "print(dnn_model.evaluate(X_test, y_test))"
   ]
  },
  {
   "cell_type": "code",
   "execution_count": 13,
   "id": "ce4b26ea",
   "metadata": {},
   "outputs": [
    {
     "data": {
      "text/plain": [
       "0.5274396944347566"
      ]
     },
     "execution_count": 13,
     "metadata": {},
     "output_type": "execute_result"
    }
   ],
   "source": [
    "r2_score(y_test, dnn_model.predict(X_test))#K Fold"
   ]
  },
  {
   "cell_type": "code",
   "execution_count": 24,
   "id": "a2e9ef45",
   "metadata": {},
   "outputs": [
    {
     "data": {
      "text/plain": [
       "0.49676030967228135"
      ]
     },
     "execution_count": 24,
     "metadata": {},
     "output_type": "execute_result"
    }
   ],
   "source": [
    "r2_score(y_test, dnn_model.predict(X_test))#Train Test Split"
   ]
  },
  {
   "cell_type": "code",
   "execution_count": 25,
   "id": "bba44349",
   "metadata": {},
   "outputs": [
    {
     "name": "stdout",
     "output_type": "stream",
     "text": [
      "4/4 [==============================] - 0s 1ms/step - loss: 105.5116\n",
      "105.51156616210938\n"
     ]
    }
   ],
   "source": [
    "maxepo=800\n",
    "\n",
    "dnn_model = tf.keras.Sequential([\n",
    "\n",
    "  layers.Dense(3, activation='relu'), # first layer\n",
    "\n",
    "  layers.Dense(3, activation='relu'),  # second layer\n",
    "  \n",
    "  layers.Dense(3, activation='relu'),  # third layer\n",
    "  layers.Dense(3, activation='relu'), # first layer\n",
    "\n",
    "  layers.Dense(3, activation='relu'),  # second layer\n",
    "  \n",
    "  layers.Dense(3, activation='relu'),  # third layer  \n",
    "  layers.Dense(3, activation='relu'), # first layer\n",
    "\n",
    "  layers.Dense(3, activation='relu'),  # second layer\n",
    "  \n",
    "  layers.Dense(3, activation='relu'),  # third layer  \n",
    "\n",
    "  layers.Dense(1)\n",
    "\n",
    "])\n",
    "\n",
    " \n",
    "\n",
    "dnn_model.compile(\n",
    "\n",
    "    optimizer=tf.optimizers.Adam(learning_rate=0.01),\n",
    "\n",
    "    loss='mean_squared_error')\n",
    "dnn_model.fit(\n",
    "\n",
    "    X_train, y_train,\n",
    "\n",
    "    validation_split=0,\n",
    "\n",
    "    verbose=0, epochs=maxepo)\n",
    "print(dnn_model.evaluate(X_test, y_test))"
   ]
  },
  {
   "cell_type": "code",
   "execution_count": 9,
   "id": "ecaa9aaf",
   "metadata": {},
   "outputs": [
    {
     "data": {
      "text/plain": [
       "-0.004922606975317212"
      ]
     },
     "execution_count": 9,
     "metadata": {},
     "output_type": "execute_result"
    }
   ],
   "source": [
    "r2_score(y_test, dnn_model.predict(X_test))#K Fold"
   ]
  },
  {
   "cell_type": "code",
   "execution_count": 26,
   "id": "4e78db32",
   "metadata": {},
   "outputs": [
    {
     "data": {
      "text/plain": [
       "-0.03224250529092121"
      ]
     },
     "execution_count": 26,
     "metadata": {},
     "output_type": "execute_result"
    }
   ],
   "source": [
    "r2_score(y_test, dnn_model.predict(X_test))#Train Test Split"
   ]
  },
  {
   "cell_type": "code",
   "execution_count": 27,
   "id": "975a93c4",
   "metadata": {},
   "outputs": [
    {
     "name": "stdout",
     "output_type": "stream",
     "text": [
      "4/4 [==============================] - 0s 1ms/step - loss: 105.4094\n",
      "105.409423828125\n"
     ]
    }
   ],
   "source": [
    "maxepo=800\n",
    "\n",
    "dnn_model = tf.keras.Sequential([\n",
    "\n",
    "  layers.Dense(3, activation='relu'), # first layer\n",
    "\n",
    "  layers.Dense(3, activation='relu'),  # second layer\n",
    "  \n",
    "  layers.Dense(3, activation='relu'),  # third layer\n",
    "  layers.Dense(3, activation='relu'), # first layer\n",
    "\n",
    "  layers.Dense(3, activation='relu'),  # second layer\n",
    "  \n",
    "  layers.Dense(3, activation='relu'),  # third layer  \n",
    "  layers.Dense(3, activation='relu'), # first layer\n",
    "\n",
    "  layers.Dense(3, activation='relu'),  # second layer\n",
    "  \n",
    "  layers.Dense(3, activation='relu'),  # third layer \n",
    "  layers.Dense(3, activation='relu'), # first layer\n",
    "\n",
    "  layers.Dense(3, activation='relu'),  # second layer\n",
    "  \n",
    "  layers.Dense(3, activation='relu'),  # third layer\n",
    "  layers.Dense(3, activation='relu'), # first layer\n",
    "\n",
    "  layers.Dense(3, activation='relu'),  # second layer\n",
    "  \n",
    "  layers.Dense(3, activation='relu'),  # third layer  \n",
    "  layers.Dense(3, activation='relu'), # first layer\n",
    "\n",
    "  layers.Dense(3, activation='relu'),  # second layer\n",
    "  \n",
    "  layers.Dense(3, activation='relu'),  # third layer \n",
    "\n",
    "  layers.Dense(1)\n",
    "\n",
    "])\n",
    "\n",
    " \n",
    "\n",
    "dnn_model.compile(\n",
    "\n",
    "    optimizer=tf.optimizers.Adam(learning_rate=0.01),\n",
    "\n",
    "    loss='mean_squared_error')\n",
    "dnn_model.fit(\n",
    "\n",
    "    X_train, y_train,\n",
    "\n",
    "    validation_split=0,\n",
    "\n",
    "    verbose=0, epochs=maxepo)\n",
    "print(dnn_model.evaluate(X_test, y_test))"
   ]
  },
  {
   "cell_type": "code",
   "execution_count": 15,
   "id": "e256a939",
   "metadata": {},
   "outputs": [
    {
     "data": {
      "text/plain": [
       "-0.0049699018604087986"
      ]
     },
     "execution_count": 15,
     "metadata": {},
     "output_type": "execute_result"
    }
   ],
   "source": [
    "r2_score(y_test, dnn_model.predict(X_test))#K Fold"
   ]
  },
  {
   "cell_type": "code",
   "execution_count": 28,
   "id": "a24cc56a",
   "metadata": {},
   "outputs": [
    {
     "data": {
      "text/plain": [
       "-0.031243185451847344"
      ]
     },
     "execution_count": 28,
     "metadata": {},
     "output_type": "execute_result"
    }
   ],
   "source": [
    "r2_score(y_test, dnn_model.predict(X_test))#Train Test Split"
   ]
  },
  {
   "cell_type": "code",
   "execution_count": 29,
   "id": "e87e848f",
   "metadata": {},
   "outputs": [
    {
     "name": "stdout",
     "output_type": "stream",
     "text": [
      "4/4 [==============================] - 0s 1ms/step - loss: 55.7934\n",
      "55.79344177246094\n"
     ]
    }
   ],
   "source": [
    "maxepo=800\n",
    "\n",
    "dnn_model = tf.keras.Sequential([\n",
    "\n",
    "  layers.Dense(20, activation='relu'), # first layer\n",
    "\n",
    "  layers.Dense(20, activation='relu'),  # second layer\n",
    "  \n",
    "  layers.Dense(20, activation='relu'),  # third layer\n",
    "\n",
    "  layers.Dense(1)\n",
    "\n",
    "])\n",
    "\n",
    " \n",
    "\n",
    "dnn_model.compile(\n",
    "\n",
    "    optimizer=tf.optimizers.Adam(learning_rate=0.01),\n",
    "\n",
    "    loss='mean_squared_error')\n",
    "dnn_model.fit(\n",
    "\n",
    "    X_train, y_train,\n",
    "\n",
    "    validation_split=0,\n",
    "\n",
    "    verbose=0, epochs=maxepo)\n",
    "print(dnn_model.evaluate(X_test, y_test))"
   ]
  },
  {
   "cell_type": "code",
   "execution_count": 17,
   "id": "00c52d54",
   "metadata": {},
   "outputs": [
    {
     "data": {
      "text/plain": [
       "0.5202175944607612"
      ]
     },
     "execution_count": 17,
     "metadata": {},
     "output_type": "execute_result"
    }
   ],
   "source": [
    "r2_score(y_test, dnn_model.predict(X_test))#K Fold"
   ]
  },
  {
   "cell_type": "code",
   "execution_count": 30,
   "id": "dcf81429",
   "metadata": {},
   "outputs": [
    {
     "data": {
      "text/plain": [
       "0.45416066042735903"
      ]
     },
     "execution_count": 30,
     "metadata": {},
     "output_type": "execute_result"
    }
   ],
   "source": [
    "r2_score(y_test, dnn_model.predict(X_test))#Train Test Split"
   ]
  },
  {
   "cell_type": "code",
   "execution_count": 31,
   "id": "e1712825",
   "metadata": {},
   "outputs": [
    {
     "name": "stdout",
     "output_type": "stream",
     "text": [
      "4/4 [==============================] - 0s 1ms/step - loss: 112.6057\n",
      "112.60574340820312\n"
     ]
    }
   ],
   "source": [
    "maxepo=800\n",
    "\n",
    "dnn_model = tf.keras.Sequential([\n",
    "\n",
    "  layers.Dense(15, activation='relu'), # first layer\n",
    "\n",
    "  layers.Dense(15, activation='relu'),  # second layer\n",
    "  \n",
    "  layers.Dense(15, activation='relu'),  # third layer\n",
    "    layers.Dense(15, activation='relu'), # first layer\n",
    "\n",
    "  layers.Dense(15, activation='relu'),  # second layer\n",
    "  \n",
    "  layers.Dense(15, activation='relu'),  # third layer\n",
    "\n",
    "  layers.Dense(1)\n",
    "\n",
    "])\n",
    "\n",
    " \n",
    "\n",
    "dnn_model.compile(\n",
    "\n",
    "    optimizer=tf.optimizers.Adam(learning_rate=0.01),\n",
    "\n",
    "    loss='mean_squared_error')\n",
    "dnn_model.fit(\n",
    "\n",
    "    X_train, y_train,\n",
    "\n",
    "    validation_split=0,\n",
    "\n",
    "    verbose=0, epochs=maxepo)\n",
    "print(dnn_model.evaluate(X_test, y_test))"
   ]
  },
  {
   "cell_type": "code",
   "execution_count": 19,
   "id": "fa14b63e",
   "metadata": {},
   "outputs": [
    {
     "data": {
      "text/plain": [
       "0.6172875267501241"
      ]
     },
     "execution_count": 19,
     "metadata": {},
     "output_type": "execute_result"
    }
   ],
   "source": [
    "r2_score(y_test, dnn_model.predict(X_test))#K Fold"
   ]
  },
  {
   "cell_type": "code",
   "execution_count": 32,
   "id": "137077ce",
   "metadata": {},
   "outputs": [
    {
     "data": {
      "text/plain": [
       "-0.10164644555045133"
      ]
     },
     "execution_count": 32,
     "metadata": {},
     "output_type": "execute_result"
    }
   ],
   "source": [
    "r2_score(y_test, dnn_model.predict(X_test))#Train Test Split"
   ]
  },
  {
   "cell_type": "code",
   "execution_count": 37,
   "id": "b22a94a4",
   "metadata": {},
   "outputs": [
    {
     "name": "stdout",
     "output_type": "stream",
     "text": [
      "4/4 [==============================] - 0s 2ms/step - loss: 48.5687\n",
      "48.56866455078125\n"
     ]
    }
   ],
   "source": [
    "maxepo=800\n",
    "\n",
    "dnn_model = tf.keras.Sequential([\n",
    "\n",
    "  layers.Dense(25, activation='relu'), # first layer\n",
    "\n",
    "  layers.Dense(25, activation='relu'),  # second layer\n",
    "  \n",
    "  layers.Dense(25, activation='relu'),  # third layer\n",
    "\n",
    "  layers.Dense(1)\n",
    "\n",
    "])\n",
    "\n",
    " \n",
    "\n",
    "dnn_model.compile(\n",
    "\n",
    "    optimizer=tf.optimizers.Adam(learning_rate=0.01),\n",
    "\n",
    "    loss='mean_squared_error')\n",
    "dnn_model.fit(\n",
    "\n",
    "    X_train, y_train,\n",
    "\n",
    "    validation_split=0,\n",
    "\n",
    "    verbose=0, epochs=maxepo)\n",
    "print(dnn_model.evaluate(X_test, y_test))"
   ]
  },
  {
   "cell_type": "code",
   "execution_count": 35,
   "id": "7a2fdf4c",
   "metadata": {},
   "outputs": [
    {
     "data": {
      "text/plain": [
       "0.4860967868139381"
      ]
     },
     "execution_count": 35,
     "metadata": {},
     "output_type": "execute_result"
    }
   ],
   "source": [
    "r2_score(y_test, dnn_model.predict(X_test))#K Fold"
   ]
  },
  {
   "cell_type": "code",
   "execution_count": 38,
   "id": "3ba6f8de",
   "metadata": {},
   "outputs": [
    {
     "data": {
      "text/plain": [
       "0.5248422429214659"
      ]
     },
     "execution_count": 38,
     "metadata": {},
     "output_type": "execute_result"
    }
   ],
   "source": [
    "r2_score(y_test, dnn_model.predict(X_test))#Train Test Split"
   ]
  },
  {
   "cell_type": "code",
   "execution_count": null,
   "id": "40d78d47",
   "metadata": {},
   "outputs": [],
   "source": []
  }
 ],
 "metadata": {
  "kernelspec": {
   "display_name": "Python 3 (ipykernel)",
   "language": "python",
   "name": "python3"
  },
  "language_info": {
   "codemirror_mode": {
    "name": "ipython",
    "version": 3
   },
   "file_extension": ".py",
   "mimetype": "text/x-python",
   "name": "python",
   "nbconvert_exporter": "python",
   "pygments_lexer": "ipython3",
   "version": "3.9.7"
  }
 },
 "nbformat": 4,
 "nbformat_minor": 5
}
