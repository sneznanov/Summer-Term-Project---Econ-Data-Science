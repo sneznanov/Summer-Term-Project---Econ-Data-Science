{
 "cells": [
  {
   "cell_type": "code",
   "execution_count": 1,
   "id": "9fd4645a",
   "metadata": {},
   "outputs": [],
   "source": [
    "import tensorflow as tf\n",
    "\n",
    "from tensorflow import keras\n",
    "\n",
    "from tensorflow.keras import layers\n",
    "\n",
    "from tensorflow.keras.layers.experimental import preprocessing\n",
    "\n",
    "import numpy as np\n",
    "\n",
    "import pandas as pd\n",
    "\n",
    "import statistics as stat\n",
    "\n",
    "import matplotlib.pyplot as plt\n",
    "from sklearn.metrics import r2_score\n",
    "from sklearn.model_selection import train_test_split\n",
    "from sklearn.model_selection import KFold\n",
    "from sklearn import tree"
   ]
  },
  {
   "cell_type": "code",
   "execution_count": 2,
   "id": "e7a0ed11",
   "metadata": {},
   "outputs": [],
   "source": [
    "df_subset_biggest = pd.read_csv('NYC_DF_BIGGEST.csv')\n",
    "features = ['EXLAND2','AVLAND2','AVLAND','EXLAND']\n",
    "X = df_subset_biggest.loc[:, features]\n",
    "y = df_subset_biggest.loc[:, ['FULLVAL']]"
   ]
  },
  {
   "cell_type": "code",
   "execution_count": 6,
   "id": "e28122a1",
   "metadata": {},
   "outputs": [],
   "source": [
    "X_train, X_test, y_train, y_test = train_test_split(X, y, random_state=973, test_size=0.333)"
   ]
  },
  {
   "cell_type": "code",
   "execution_count": 3,
   "id": "a4153b2b",
   "metadata": {},
   "outputs": [],
   "source": [
    "kf = KFold(n_splits = 5, shuffle = True, random_state = 973)\n",
    "for train_index, test_index in kf.split(X, y):\n",
    "\n",
    "    X_train, X_test= X.iloc[train_index], X.iloc[test_index]\n",
    "    y_train, y_test= y.iloc[train_index], y.iloc[test_index]"
   ]
  },
  {
   "cell_type": "code",
   "execution_count": 7,
   "id": "fbd7766b",
   "metadata": {},
   "outputs": [],
   "source": [
    "clf = tree.DecisionTreeClassifier()\n",
    "clf.fit(X_train, y_train)\n",
    "y_pred = clf.predict(X_test)"
   ]
  },
  {
   "cell_type": "code",
   "execution_count": 5,
   "id": "2a65effa",
   "metadata": {},
   "outputs": [
    {
     "data": {
      "text/plain": [
       "0.6409445432858699"
      ]
     },
     "execution_count": 5,
     "metadata": {},
     "output_type": "execute_result"
    }
   ],
   "source": [
    "r2_score(y_test, y_pred)#K Fold"
   ]
  },
  {
   "cell_type": "code",
   "execution_count": 8,
   "id": "6bbbd8bb",
   "metadata": {},
   "outputs": [
    {
     "data": {
      "text/plain": [
       "0.459329329531341"
      ]
     },
     "execution_count": 8,
     "metadata": {},
     "output_type": "execute_result"
    }
   ],
   "source": [
    "r2_score(y_test, y_pred)#Train Test"
   ]
  },
  {
   "cell_type": "code",
   "execution_count": null,
   "id": "c8221c61",
   "metadata": {},
   "outputs": [],
   "source": []
  }
 ],
 "metadata": {
  "kernelspec": {
   "display_name": "Python 3 (ipykernel)",
   "language": "python",
   "name": "python3"
  },
  "language_info": {
   "codemirror_mode": {
    "name": "ipython",
    "version": 3
   },
   "file_extension": ".py",
   "mimetype": "text/x-python",
   "name": "python",
   "nbconvert_exporter": "python",
   "pygments_lexer": "ipython3",
   "version": "3.9.7"
  }
 },
 "nbformat": 4,
 "nbformat_minor": 5
}
