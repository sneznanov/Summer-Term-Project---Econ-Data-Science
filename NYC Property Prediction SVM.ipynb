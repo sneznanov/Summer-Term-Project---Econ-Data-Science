{
 "cells": [
  {
   "cell_type": "code",
   "execution_count": 10,
   "id": "523b696b",
   "metadata": {},
   "outputs": [],
   "source": [
    "from sklearn.model_selection import KFold"
   ]
  },
  {
   "cell_type": "code",
   "execution_count": 1,
   "id": "ce73b7f8",
   "metadata": {},
   "outputs": [],
   "source": [
    "import pandas as pd\n",
    "import numpy as np\n",
    "from sklearn.model_selection import train_test_split\n",
    "from sklearn.linear_model import LinearRegression\n",
    "import matplotlib.pyplot as plt\n",
    "import seaborn as sn\n",
    "import statistics as stat\n",
    "from sklearn import svm\n",
    "from sklearn import metrics\n",
    "import statsmodels.api as sm\n",
    "from sklearn.metrics import r2_score\n",
    "from sklearn import preprocessing"
   ]
  },
  {
   "cell_type": "code",
   "execution_count": 2,
   "id": "28fcee99",
   "metadata": {},
   "outputs": [],
   "source": [
    "df = pd.read_csv('Property_Valuation_and_Assessment_Data.csv')\n",
    "len(df)\n",
    "remove_n = 9844857\n",
    "drop_indices = np.random.choice(df.index, remove_n, replace=False)\n",
    "df_subset = df.drop(drop_indices)\n",
    "len(df_subset)\n",
    "\n",
    "df_subset.replace([np.inf, -np.inf], np.nan, inplace=True)\n",
    "df_subset.fillna(1, inplace=True)"
   ]
  },
  {
   "cell_type": "code",
   "execution_count": 2,
   "id": "161608ae",
   "metadata": {},
   "outputs": [],
   "source": [
    "from sklearnex import patch_sklearn"
   ]
  },
  {
   "cell_type": "code",
   "execution_count": 3,
   "id": "4e1fd278",
   "metadata": {},
   "outputs": [
    {
     "name": "stderr",
     "output_type": "stream",
     "text": [
      "Intel(R) Extension for Scikit-learn* enabled (https://github.com/intel/scikit-learn-intelex)\n"
     ]
    }
   ],
   "source": [
    "patch_sklearn()"
   ]
  },
  {
   "cell_type": "code",
   "execution_count": 4,
   "id": "0b36e2e8",
   "metadata": {},
   "outputs": [
    {
     "data": {
      "text/plain": [
       "1000"
      ]
     },
     "execution_count": 4,
     "metadata": {},
     "output_type": "execute_result"
    }
   ],
   "source": []
  },
  {
   "cell_type": "code",
   "execution_count": 5,
   "id": "242869de",
   "metadata": {},
   "outputs": [
    {
     "data": {
      "text/plain": [
       "<AxesSubplot:>"
      ]
     },
     "execution_count": 5,
     "metadata": {},
     "output_type": "execute_result"
    },
    {
     "data": {
      "image/png": "[encoded data removed]",
      "text/plain": [
       "<Figure size 432x288 with 2 Axes>"
      ]
     },
     "metadata": {
      "needs_background": "light"
     },
     "output_type": "display_data"
    }
   ],
   "source": [
    "sn.heatmap(df.corr()[['FULLVAL']].sort_values(by='FULLVAL', ascending=False))"
   ]
  },
  {
   "cell_type": "code",
   "execution_count": 14,
   "id": "8ce516b3",
   "metadata": {},
   "outputs": [],
   "source": [
    "df_subset_biggest = pd.read_csv('NYC_DF_BIG.csv')\n",
    "features = ['EXLAND2','AVLAND2','AVLAND','EXLAND']\n",
    "X = df_subset_biggest.loc[:, features]\n",
    "y = df_subset_biggest.loc[:, ['FULLVAL']]"
   ]
  },
  {
   "cell_type": "code",
   "execution_count": 15,
   "id": "e025bd06",
   "metadata": {},
   "outputs": [],
   "source": [
    "X_train, X_test, y_train, y_test = train_test_split(X, y, random_state=973, test_size=0.2)"
   ]
  },
  {
   "cell_type": "code",
   "execution_count": 11,
   "id": "74691cc0",
   "metadata": {},
   "outputs": [],
   "source": [
    "kf = KFold(n_splits = 5, shuffle = True, random_state = 973)\n",
    "for train_index, test_index in kf.split(X, y):\n",
    "    #print(train_index, test_index) \n",
    "    X_train, X_test= X.iloc[train_index], X.iloc[test_index]\n",
    "    y_train, y_test= y.iloc[train_index], y.iloc[test_index]"
   ]
  },
  {
   "cell_type": "code",
   "execution_count": 5,
   "id": "2aade0dd",
   "metadata": {},
   "outputs": [
    {
     "data": {
      "text/plain": [
       "8000"
      ]
     },
     "execution_count": 5,
     "metadata": {},
     "output_type": "execute_result"
    }
   ],
   "source": [
    "len(X_train)"
   ]
  },
  {
   "cell_type": "code",
   "execution_count": 5,
   "id": "b66ef22f",
   "metadata": {},
   "outputs": [
    {
     "data": {
      "text/plain": [
       "2000"
      ]
     },
     "execution_count": 5,
     "metadata": {},
     "output_type": "execute_result"
    }
   ],
   "source": [
    "len(X_test)"
   ]
  },
  {
   "cell_type": "code",
   "execution_count": 26,
   "id": "627fc3b9",
   "metadata": {},
   "outputs": [],
   "source": [
    "df = df.reset_index()"
   ]
  },
  {
   "cell_type": "code",
   "execution_count": 6,
   "id": "54177179",
   "metadata": {},
   "outputs": [],
   "source": [
    "import time\n",
    "from humanfriendly import format_timespan"
   ]
  },
  {
   "cell_type": "markdown",
   "id": "be6bf7ad",
   "metadata": {},
   "source": [
    "# SVM Testing:"
   ]
  },
  {
   "cell_type": "code",
   "execution_count": null,
   "id": "69887d99",
   "metadata": {},
   "outputs": [],
   "source": [
    "start = time.time()\n",
    "\n",
    "\n",
    "svmmodel = svm.SVC(kernel='linear')\n",
    "svmmodel.fit(X_train, y_train)\n",
    "Ypredictsvm=svmmodel.predict(X_test)\n",
    "#accuracy=metrics.accuracy_score(y_test, Ypredictsvm)\n",
    "#print(\"svm error:\", 1-accuracy)\n",
    "#print(Ypredictsvm)\n",
    "\n",
    "end = time.time()\n",
    "format_timespan(end - start)"
   ]
  },
  {
   "cell_type": "code",
   "execution_count": 6,
   "id": "d28d0f56",
   "metadata": {},
   "outputs": [],
   "source": [
    "from sklearn import preprocessing"
   ]
  },
  {
   "cell_type": "code",
   "execution_count": 7,
   "id": "15c0ab06",
   "metadata": {},
   "outputs": [],
   "source": [
    "from sklearn.metrics import r2_score"
   ]
  },
  {
   "cell_type": "code",
   "execution_count": null,
   "id": "cfc0425b",
   "metadata": {},
   "outputs": [],
   "source": [
    "r2_score(y_test, Ypredictsvm)#K Fold"
   ]
  },
  {
   "cell_type": "code",
   "execution_count": 8,
   "id": "a86c5c0b",
   "metadata": {},
   "outputs": [
    {
     "data": {
      "text/plain": [
       "0.5072212585768986"
      ]
     },
     "execution_count": 8,
     "metadata": {},
     "output_type": "execute_result"
    }
   ],
   "source": [
    "r2_score(y_test, Ypredictsvm)# Train Test Split"
   ]
  },
  {
   "cell_type": "code",
   "execution_count": 9,
   "id": "009fb802",
   "metadata": {},
   "outputs": [
    {
     "name": "stdout",
     "output_type": "stream",
     "text": [
      "svm error: 0.995\n"
     ]
    }
   ],
   "source": [
    "accuracy=metrics.accuracy_score(y_test, Ypredictsvm)\n",
    "print(\"svm error:\", 1-accuracy)"
   ]
  },
  {
   "cell_type": "code",
   "execution_count": 10,
   "id": "d65d570b",
   "metadata": {},
   "outputs": [],
   "source": [
    "from sklearn.metrics import mean_squared_error"
   ]
  },
  {
   "cell_type": "code",
   "execution_count": 12,
   "id": "7cf9d31c",
   "metadata": {},
   "outputs": [
    {
     "data": {
      "text/plain": [
       "7381891.210722251"
      ]
     },
     "execution_count": 12,
     "metadata": {},
     "output_type": "execute_result"
    }
   ],
   "source": [
    "mean_squared_error(y_test, Ypredictsvm, squared=False)"
   ]
  },
  {
   "cell_type": "code",
   "execution_count": 13,
   "id": "ebb7b8af",
   "metadata": {},
   "outputs": [
    {
     "data": {
      "text/plain": [
       "0.005"
      ]
     },
     "execution_count": 13,
     "metadata": {},
     "output_type": "execute_result"
    }
   ],
   "source": [
    "svmmodel.score(X_test,y_test)"
   ]
  },
  {
   "cell_type": "code",
   "execution_count": 8,
   "id": "9d01f335",
   "metadata": {},
   "outputs": [
    {
     "data": {
      "text/plain": [
       "0.461548531358552"
      ]
     },
     "execution_count": 8,
     "metadata": {},
     "output_type": "execute_result"
    }
   ],
   "source": [
    "r2_score(y_test, Ypredictsvm)# Train Test Split small"
   ]
  },
  {
   "cell_type": "code",
   "execution_count": 13,
   "id": "3d23c4e5",
   "metadata": {},
   "outputs": [
    {
     "data": {
      "text/plain": [
       "-7.4634166801077"
      ]
     },
     "execution_count": 13,
     "metadata": {},
     "output_type": "execute_result"
    }
   ],
   "source": [
    "r2_score(y_test, Ypredictsvm)#K Fold Spliot small"
   ]
  },
  {
   "cell_type": "code",
   "execution_count": null,
   "id": "11c15f60",
   "metadata": {},
   "outputs": [],
   "source": [
    "r2_score(y_test, Ypredictsvm)# Train Test Split medium"
   ]
  },
  {
   "cell_type": "code",
   "execution_count": null,
   "id": "230537c0",
   "metadata": {},
   "outputs": [],
   "source": [
    "r2_score(y_test, Ypredictsvm)#K Fold Spliot medium"
   ]
  }
 ],
 "metadata": {
  "kernelspec": {
   "display_name": "Python 3 (ipykernel)",
   "language": "python",
   "name": "python3"
  },
  "language_info": {
   "codemirror_mode": {
    "name": "ipython",
    "version": 3
   },
   "file_extension": ".py",
   "mimetype": "text/x-python",
   "name": "python",
   "nbconvert_exporter": "python",
   "pygments_lexer": "ipython3",
   "version": "3.9.7"
  }
 },
 "nbformat": 4,
 "nbformat_minor": 5
}
